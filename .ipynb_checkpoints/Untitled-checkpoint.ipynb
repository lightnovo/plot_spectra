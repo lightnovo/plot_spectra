{
 "cells": [
  {
   "cell_type": "markdown",
   "id": "5462d506-749a-432f-b3d3-f8767f8840c3",
   "metadata": {
    "tags": []
   },
   "source": [
    "test"
   ]
  },
  {
   "cell_type": "markdown",
   "id": "4ac02cf2-0999-4578-b1dd-c0c6a6a62236",
   "metadata": {},
   "source": []
  }
 ],
 "metadata": {
  "kernelspec": {
   "display_name": "Python 3 (ipykernel)",
   "language": "python",
   "name": "python3"
  },
  "language_info": {
   "codemirror_mode": {
    "name": "ipython",
    "version": 3
   },
   "file_extension": ".py",
   "mimetype": "text/x-python",
   "name": "python",
   "nbconvert_exporter": "python",
   "pygments_lexer": "ipython3",
   "version": "3.11.5"
  }
 },
 "nbformat": 4,
 "nbformat_minor": 5
}
